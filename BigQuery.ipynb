{
 "cells": [
  {
   "cell_type": "code",
   "execution_count": 16,
   "source": [
    "from google.cloud import bigquery"
   ],
   "outputs": [],
   "metadata": {}
  },
  {
   "cell_type": "code",
   "execution_count": 34,
   "source": [
    "import os\r\n",
    "from oauth2client.service_account import ServiceAccountCredentials\r\n",
    "\r\n",
    "# credentials = ServiceAccountCredentials.from_json_keyfile_name('dpnhung.json')\r\n",
    "# client = bigquery.Client(credentials=credentials)\r\n",
    "os.environ['GOOGLE_APPLICATION_CREDENTIALS'] = 'dpnhung.json'\r\n",
    "client = bigquery.Client()"
   ],
   "outputs": [],
   "metadata": {}
  },
  {
   "cell_type": "code",
   "execution_count": 37,
   "source": [
    "dataset_ref = client.dataset('hacker_news', project='bigquery-public-data')\r\n",
    "dataset = client.get_dataset(dataset_ref)"
   ],
   "outputs": [],
   "metadata": {}
  },
  {
   "cell_type": "code",
   "execution_count": 40,
   "source": [
    "tables = list(client.list_tables(dataset))\r\n",
    "\r\n",
    "table_ref = dataset_ref.table(\"full\")\r\n",
    "\r\n",
    "# API request - fetch the table\r\n",
    "table = client.get_table(table_ref)"
   ],
   "outputs": [],
   "metadata": {}
  },
  {
   "cell_type": "code",
   "execution_count": 41,
   "source": [
    "table.schema"
   ],
   "outputs": [
    {
     "output_type": "execute_result",
     "data": {
      "text/plain": [
       "[SchemaField('title', 'STRING', 'NULLABLE', 'Story title', (), ()),\n",
       " SchemaField('url', 'STRING', 'NULLABLE', 'Story url', (), ()),\n",
       " SchemaField('text', 'STRING', 'NULLABLE', 'Story or comment text', (), ()),\n",
       " SchemaField('dead', 'BOOLEAN', 'NULLABLE', 'Is dead?', (), ()),\n",
       " SchemaField('by', 'STRING', 'NULLABLE', \"The username of the item's author.\", (), ()),\n",
       " SchemaField('score', 'INTEGER', 'NULLABLE', 'Story score', (), ()),\n",
       " SchemaField('time', 'INTEGER', 'NULLABLE', 'Unix time', (), ()),\n",
       " SchemaField('timestamp', 'TIMESTAMP', 'NULLABLE', 'Timestamp for the unix time', (), ()),\n",
       " SchemaField('type', 'STRING', 'NULLABLE', 'Type of details (comment, comment_ranking, poll, story, job, pollopt)', (), ()),\n",
       " SchemaField('id', 'INTEGER', 'NULLABLE', \"The item's unique id.\", (), ()),\n",
       " SchemaField('parent', 'INTEGER', 'NULLABLE', 'Parent comment ID', (), ()),\n",
       " SchemaField('descendants', 'INTEGER', 'NULLABLE', 'Number of story or poll descendants', (), ()),\n",
       " SchemaField('ranking', 'INTEGER', 'NULLABLE', 'Comment ranking', (), ()),\n",
       " SchemaField('deleted', 'BOOLEAN', 'NULLABLE', 'Is deleted?', (), ())]"
      ]
     },
     "metadata": {},
     "execution_count": 41
    }
   ],
   "metadata": {}
  },
  {
   "cell_type": "code",
   "execution_count": 42,
   "source": [
    "client.list_rows(table, max_results=5).to_dataframe()"
   ],
   "outputs": [
    {
     "output_type": "execute_result",
     "data": {
      "text/plain": [
       "  title   url                                               text  dead  \\\n",
       "0  None  None  Firstly, I upvoted your account because you us...  None   \n",
       "1  None  None  Also current users of Samsung phones would be ...  None   \n",
       "2  None  None  If Yahoo plays their cards right, they could b...  None   \n",
       "3  None  None  Harry Potter has better story and better lessons.  None   \n",
       "4  None  None  Shopify&#x27;s EmbeddedSDK does plugins (or &q...  None   \n",
       "\n",
       "           by  score        time                 timestamp     type        id  \\\n",
       "0      feybay    NaN  1429113421 2015-04-15 15:57:01+00:00  comment   9381820   \n",
       "1        myko    NaN  1364167239 2013-03-24 23:20:39+00:00  comment   5434303   \n",
       "2  polynomial    NaN  1429113431 2015-04-15 15:57:11+00:00  comment   9381821   \n",
       "3    rimantas    NaN  1470688814 2016-08-08 20:40:14+00:00  comment  12250710   \n",
       "4      acoard    NaN  1470688857 2016-08-08 20:40:57+00:00  comment  12250711   \n",
       "\n",
       "     parent  descendants  ranking deleted  \n",
       "0   9379964          NaN      NaN    None  \n",
       "1   5432470          NaN      NaN    None  \n",
       "2   9381101          NaN      NaN    None  \n",
       "3  12250450          NaN      NaN    None  \n",
       "4  12222056          NaN      NaN    None  "
      ],
      "text/html": [
       "<div>\n",
       "<style scoped>\n",
       "    .dataframe tbody tr th:only-of-type {\n",
       "        vertical-align: middle;\n",
       "    }\n",
       "\n",
       "    .dataframe tbody tr th {\n",
       "        vertical-align: top;\n",
       "    }\n",
       "\n",
       "    .dataframe thead th {\n",
       "        text-align: right;\n",
       "    }\n",
       "</style>\n",
       "<table border=\"1\" class=\"dataframe\">\n",
       "  <thead>\n",
       "    <tr style=\"text-align: right;\">\n",
       "      <th></th>\n",
       "      <th>title</th>\n",
       "      <th>url</th>\n",
       "      <th>text</th>\n",
       "      <th>dead</th>\n",
       "      <th>by</th>\n",
       "      <th>score</th>\n",
       "      <th>time</th>\n",
       "      <th>timestamp</th>\n",
       "      <th>type</th>\n",
       "      <th>id</th>\n",
       "      <th>parent</th>\n",
       "      <th>descendants</th>\n",
       "      <th>ranking</th>\n",
       "      <th>deleted</th>\n",
       "    </tr>\n",
       "  </thead>\n",
       "  <tbody>\n",
       "    <tr>\n",
       "      <th>0</th>\n",
       "      <td>None</td>\n",
       "      <td>None</td>\n",
       "      <td>Firstly, I upvoted your account because you us...</td>\n",
       "      <td>None</td>\n",
       "      <td>feybay</td>\n",
       "      <td>NaN</td>\n",
       "      <td>1429113421</td>\n",
       "      <td>2015-04-15 15:57:01+00:00</td>\n",
       "      <td>comment</td>\n",
       "      <td>9381820</td>\n",
       "      <td>9379964</td>\n",
       "      <td>NaN</td>\n",
       "      <td>NaN</td>\n",
       "      <td>None</td>\n",
       "    </tr>\n",
       "    <tr>\n",
       "      <th>1</th>\n",
       "      <td>None</td>\n",
       "      <td>None</td>\n",
       "      <td>Also current users of Samsung phones would be ...</td>\n",
       "      <td>None</td>\n",
       "      <td>myko</td>\n",
       "      <td>NaN</td>\n",
       "      <td>1364167239</td>\n",
       "      <td>2013-03-24 23:20:39+00:00</td>\n",
       "      <td>comment</td>\n",
       "      <td>5434303</td>\n",
       "      <td>5432470</td>\n",
       "      <td>NaN</td>\n",
       "      <td>NaN</td>\n",
       "      <td>None</td>\n",
       "    </tr>\n",
       "    <tr>\n",
       "      <th>2</th>\n",
       "      <td>None</td>\n",
       "      <td>None</td>\n",
       "      <td>If Yahoo plays their cards right, they could b...</td>\n",
       "      <td>None</td>\n",
       "      <td>polynomial</td>\n",
       "      <td>NaN</td>\n",
       "      <td>1429113431</td>\n",
       "      <td>2015-04-15 15:57:11+00:00</td>\n",
       "      <td>comment</td>\n",
       "      <td>9381821</td>\n",
       "      <td>9381101</td>\n",
       "      <td>NaN</td>\n",
       "      <td>NaN</td>\n",
       "      <td>None</td>\n",
       "    </tr>\n",
       "    <tr>\n",
       "      <th>3</th>\n",
       "      <td>None</td>\n",
       "      <td>None</td>\n",
       "      <td>Harry Potter has better story and better lessons.</td>\n",
       "      <td>None</td>\n",
       "      <td>rimantas</td>\n",
       "      <td>NaN</td>\n",
       "      <td>1470688814</td>\n",
       "      <td>2016-08-08 20:40:14+00:00</td>\n",
       "      <td>comment</td>\n",
       "      <td>12250710</td>\n",
       "      <td>12250450</td>\n",
       "      <td>NaN</td>\n",
       "      <td>NaN</td>\n",
       "      <td>None</td>\n",
       "    </tr>\n",
       "    <tr>\n",
       "      <th>4</th>\n",
       "      <td>None</td>\n",
       "      <td>None</td>\n",
       "      <td>Shopify&amp;#x27;s EmbeddedSDK does plugins (or &amp;q...</td>\n",
       "      <td>None</td>\n",
       "      <td>acoard</td>\n",
       "      <td>NaN</td>\n",
       "      <td>1470688857</td>\n",
       "      <td>2016-08-08 20:40:57+00:00</td>\n",
       "      <td>comment</td>\n",
       "      <td>12250711</td>\n",
       "      <td>12222056</td>\n",
       "      <td>NaN</td>\n",
       "      <td>NaN</td>\n",
       "      <td>None</td>\n",
       "    </tr>\n",
       "  </tbody>\n",
       "</table>\n",
       "</div>"
      ]
     },
     "metadata": {},
     "execution_count": 42
    }
   ],
   "metadata": {}
  },
  {
   "cell_type": "code",
   "execution_count": null,
   "source": [],
   "outputs": [],
   "metadata": {}
  }
 ],
 "metadata": {
  "orig_nbformat": 4,
  "language_info": {
   "name": "python",
   "version": "3.8.5",
   "mimetype": "text/x-python",
   "codemirror_mode": {
    "name": "ipython",
    "version": 3
   },
   "pygments_lexer": "ipython3",
   "nbconvert_exporter": "python",
   "file_extension": ".py"
  },
  "kernelspec": {
   "name": "python3",
   "display_name": "Python 3.8.5 64-bit ('base': conda)"
  },
  "interpreter": {
   "hash": "b3ba2566441a7c06988d0923437866b63cedc61552a5af99d1f4fb67d367b25f"
  }
 },
 "nbformat": 4,
 "nbformat_minor": 2
}