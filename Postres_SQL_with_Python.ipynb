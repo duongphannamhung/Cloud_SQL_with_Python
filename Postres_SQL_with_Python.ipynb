{
 "cells": [
  {
   "cell_type": "code",
   "execution_count": 1,
   "source": [
    "import psycopg2\r\n",
    "import csv"
   ],
   "outputs": [],
   "metadata": {}
  },
  {
   "cell_type": "code",
   "execution_count": 1,
   "source": [
    "import psycopg2\r\n",
    "conn = psycopg2.connect(dbname=\"postgres\", user=\"postgres\", password = \"abc123\")\r\n",
    "cursor = conn.cursor()\r\n",
    "cursor.execute(\"CREATE TABLE notes(id integer PRIMARY KEY, body text, title text)\")\r\n",
    "conn.close()"
   ],
   "outputs": [],
   "metadata": {}
  },
  {
   "cell_type": "code",
   "execution_count": 3,
   "source": [
    "conn = psycopg2.connect(\"dbname=postgres user=postgres\")\r\n",
    "cur = conn.cursor()\r\n",
    "cur.execute(\"\"\"\r\n",
    "    CREATE TABLE users (id integer PRIMARY KEY, \r\n",
    "                        email text , \r\n",
    "                        name text , \r\n",
    "                        address text);\"\"\")\r\n",
    "with open('user_accounts.csv','r') as file:\r\n",
    "    next(file)\r\n",
    "    reader = csv.reader(file)\r\n",
    "    for row in reader:\r\n",
    "        cur.execute(\"INSERT INTO users VALUES (%s,%s,%s,%s);\",row)\r\n",
    "conn.commit()\r\n",
    "conn.close()"
   ],
   "outputs": [
    {
     "output_type": "error",
     "ename": "OperationalError",
     "evalue": "could not connect to server: Connection refused (0x0000274D/10061)\n\tIs the server running on host \"localhost\" (::1) and accepting\n\tTCP/IP connections on port 5432?\ncould not connect to server: Connection refused (0x0000274D/10061)\n\tIs the server running on host \"localhost\" (127.0.0.1) and accepting\n\tTCP/IP connections on port 5432?\n",
     "traceback": [
      "\u001b[1;31m---------------------------------------------------------------------------\u001b[0m",
      "\u001b[1;31mOperationalError\u001b[0m                          Traceback (most recent call last)",
      "\u001b[1;32m<ipython-input-3-433e5b69dd34>\u001b[0m in \u001b[0;36m<module>\u001b[1;34m\u001b[0m\n\u001b[1;32m----> 1\u001b[1;33m \u001b[0mconn\u001b[0m \u001b[1;33m=\u001b[0m \u001b[0mpsycopg2\u001b[0m\u001b[1;33m.\u001b[0m\u001b[0mconnect\u001b[0m\u001b[1;33m(\u001b[0m\u001b[1;34m\"dbname=dq user=dq\"\u001b[0m\u001b[1;33m)\u001b[0m\u001b[1;33m\u001b[0m\u001b[1;33m\u001b[0m\u001b[0m\n\u001b[0m\u001b[0;32m      2\u001b[0m \u001b[0mcur\u001b[0m \u001b[1;33m=\u001b[0m \u001b[0mconn\u001b[0m\u001b[1;33m.\u001b[0m\u001b[0mcursor\u001b[0m\u001b[1;33m(\u001b[0m\u001b[1;33m)\u001b[0m\u001b[1;33m\u001b[0m\u001b[1;33m\u001b[0m\u001b[0m\n\u001b[0;32m      3\u001b[0m cur.execute(\"\"\"\n\u001b[0;32m      4\u001b[0m     CREATE TABLE users (id integer PRIMARY KEY, \n\u001b[0;32m      5\u001b[0m                         \u001b[0memail\u001b[0m \u001b[0mtext\u001b[0m \u001b[1;33m,\u001b[0m\u001b[1;33m\u001b[0m\u001b[1;33m\u001b[0m\u001b[0m\n",
      "\u001b[1;32mC:\\ProgramData\\Anaconda3\\lib\\site-packages\\psycopg2\\__init__.py\u001b[0m in \u001b[0;36mconnect\u001b[1;34m(dsn, connection_factory, cursor_factory, **kwargs)\u001b[0m\n\u001b[0;32m    120\u001b[0m \u001b[1;33m\u001b[0m\u001b[0m\n\u001b[0;32m    121\u001b[0m     \u001b[0mdsn\u001b[0m \u001b[1;33m=\u001b[0m \u001b[0m_ext\u001b[0m\u001b[1;33m.\u001b[0m\u001b[0mmake_dsn\u001b[0m\u001b[1;33m(\u001b[0m\u001b[0mdsn\u001b[0m\u001b[1;33m,\u001b[0m \u001b[1;33m**\u001b[0m\u001b[0mkwargs\u001b[0m\u001b[1;33m)\u001b[0m\u001b[1;33m\u001b[0m\u001b[1;33m\u001b[0m\u001b[0m\n\u001b[1;32m--> 122\u001b[1;33m     \u001b[0mconn\u001b[0m \u001b[1;33m=\u001b[0m \u001b[0m_connect\u001b[0m\u001b[1;33m(\u001b[0m\u001b[0mdsn\u001b[0m\u001b[1;33m,\u001b[0m \u001b[0mconnection_factory\u001b[0m\u001b[1;33m=\u001b[0m\u001b[0mconnection_factory\u001b[0m\u001b[1;33m,\u001b[0m \u001b[1;33m**\u001b[0m\u001b[0mkwasync\u001b[0m\u001b[1;33m)\u001b[0m\u001b[1;33m\u001b[0m\u001b[1;33m\u001b[0m\u001b[0m\n\u001b[0m\u001b[0;32m    123\u001b[0m     \u001b[1;32mif\u001b[0m \u001b[0mcursor_factory\u001b[0m \u001b[1;32mis\u001b[0m \u001b[1;32mnot\u001b[0m \u001b[1;32mNone\u001b[0m\u001b[1;33m:\u001b[0m\u001b[1;33m\u001b[0m\u001b[1;33m\u001b[0m\u001b[0m\n\u001b[0;32m    124\u001b[0m         \u001b[0mconn\u001b[0m\u001b[1;33m.\u001b[0m\u001b[0mcursor_factory\u001b[0m \u001b[1;33m=\u001b[0m \u001b[0mcursor_factory\u001b[0m\u001b[1;33m\u001b[0m\u001b[1;33m\u001b[0m\u001b[0m\n",
      "\u001b[1;31mOperationalError\u001b[0m: could not connect to server: Connection refused (0x0000274D/10061)\n\tIs the server running on host \"localhost\" (::1) and accepting\n\tTCP/IP connections on port 5432?\ncould not connect to server: Connection refused (0x0000274D/10061)\n\tIs the server running on host \"localhost\" (127.0.0.1) and accepting\n\tTCP/IP connections on port 5432?\n"
     ]
    }
   ],
   "metadata": {}
  },
  {
   "cell_type": "code",
   "execution_count": null,
   "source": [
    "print(cur.description)"
   ],
   "outputs": [],
   "metadata": {}
  },
  {
   "cell_type": "code",
   "execution_count": null,
   "source": [
    "cur.execute(\"\"\"ALTER TABLE ign_reviews ALTER COLUMN id TYPE int8;\"\"\")"
   ],
   "outputs": [],
   "metadata": {}
  },
  {
   "cell_type": "code",
   "execution_count": null,
   "source": [
    "# tao column chi co cac value di kem\r\n",
    "cur.execute(\"\"\"\r\n",
    "    CREATE TYPE evaluation_enum AS ENUM (\r\n",
    "    'Great',       'Mediocre', 'Bad', \r\n",
    "    'Good',        'Awful',    'Okay', \r\n",
    "    'Masterpiece', 'Amazing',  'Unbearable', \r\n",
    "    'Disaster',    'Painful');\r\n",
    "\"\"\")\r\n",
    "\r\n",
    "cur.execute(\"\"\"ALTER TABLE ign_reviews\r\n",
    "ALTER COLUMN score_phrase TYPE evaluation_enum\r\n",
    "USING score_phrase::evaluation_enum;\"\"\")"
   ],
   "outputs": [],
   "metadata": {}
  },
  {
   "cell_type": "code",
   "execution_count": null,
   "source": [
    "cur.execute(\"\"\"\r\n",
    "    ALTER TABLE ign_reviews \r\n",
    "    ALTER COLUMN editors_choice TYPE boolean\r\n",
    "    USING editors_choice::boolean;\r\n",
    "\"\"\")"
   ],
   "outputs": [],
   "metadata": {}
  },
  {
   "cell_type": "code",
   "execution_count": null,
   "source": [
    "cur.execute(\"\"\"ALTER TABLE ign_reviews DROP COLUMN release_day;\"\"\")"
   ],
   "outputs": [],
   "metadata": {}
  },
  {
   "cell_type": "code",
   "execution_count": null,
   "source": [
    "# 3 cot cuoi la ngay, thang, nam -> 1 cot date va cho vao table\r\n",
    "with open('ign.csv') as file:\r\n",
    "    next(file)\r\n",
    "    reader = csv.reader(file)\r\n",
    "    for row in reader:\r\n",
    "        year = int(row[8])\r\n",
    "        month = int(row[9])\r\n",
    "        day = int(row[10])\r\n",
    "        date = datetime.date(year,month,day)\r\n",
    "        row = row[:-3] # chi lay cac cot con lai tru 3 cot cuoi\r\n",
    "        row.append(date) # tao them cot date\r\n",
    "        cur.execute(\"\"\"INSERT INTO ign_reviews VALUES (%s,%s,%s,%s,%s,%s,%s,%s,%s);\"\"\",row)"
   ],
   "outputs": [],
   "metadata": {}
  },
  {
   "cell_type": "code",
   "execution_count": null,
   "source": [
    "# Insert bang dictionary :\r\n",
    "row_values = { \r\n",
    "    'identifier': 1, \r\n",
    "    'mail': 'adam.smith@dataquest.io',\r\n",
    "    'name': 'Adam Smith', \r\n",
    "    'address': '42 Fake Street'\r\n",
    "}\r\n",
    "cur.execute(\"INSERT INTO users VALUES (%(identifier)s,%(mail)s,%(name)s,%(address)s);\",row_values)"
   ],
   "outputs": [],
   "metadata": {}
  },
  {
   "cell_type": "code",
   "execution_count": null,
   "source": [
    "# SQL injection\r\n",
    "def get_email(name):\r\n",
    "    import psycopg2\r\n",
    "    conn = psycopg2.connect(\"dbname=dq user=dq\")\r\n",
    "    cur = conn.cursor()\r\n",
    "    # create the query string using the format function\r\n",
    "    query_string = \"SELECT email FROM users WHERE name = '\" + name + \"';\"\r\n",
    "    # execute the query\r\n",
    "    cur.execute(query_string)\r\n",
    "    res = cur.fetchall()\r\n",
    "    conn.close()\r\n",
    "    return res\r\n",
    "\r\n",
    "name = \"Joseph Kirby' OR 1 = 1 --\"\r\n",
    "name = \"Larry Cain' UNION SELECT address FROM users WHERE name = 'Larry Cain\"\r\n",
    "# Query all information from interface\r\n",
    "# Fix it:\r\n",
    "def get_email_fixed(name):\r\n",
    "   import psycopg2\r\n",
    "   conn = psycopg2.connect(\"dbname=dq user=dq\")\r\n",
    "   cur = conn.cursor()\r\n",
    "   cur.execute(\"SELECT email FROM users WHERE name = %s\",(name,))\r\n",
    "   res = cur.fetchall()\r\n",
    "   conn.close()\r\n",
    "   return res\r\n",
    "\r\n",
    "# THE BEST THING IN SQL is PREPARE - giong Function in Python va no con accelerate system faster:\r\n",
    "cur.execute(\"\"\"PREPARE get_email(text) AS SELECT email FROM users WHERE name = $1;\"\"\")\r\n",
    "name = 'Anna Carter'\r\n",
    "cur.execute(\"\"\"EXECUTE get_email(%s)\"\"\",(name,))"
   ],
   "outputs": [],
   "metadata": {}
  },
  {
   "cell_type": "code",
   "execution_count": null,
   "source": [
    "# Encoding from Byte to String:\r\n",
    "game_data = (52499790661213, 'Amazing', 'LittleBigPlanet PS Vita', '/games/littlebigplanet-vita/vita-98907', 'PlayStation Vita', 9.0, 'Platformer', 'y', date(2012, 12, 9))\r\n",
    "conn_encoding = conn.encoding\r\n",
    "mogrified_values = cur.mogrify(\"(%s, %s, %s, %s, %s, %s, %s, %s, %s)\",game_data)\r\n",
    "mogrified_values_decoded = mogrified_values.decode(conn_encoding)"
   ],
   "outputs": [],
   "metadata": {}
  },
  {
   "cell_type": "code",
   "execution_count": null,
   "source": [
    "with open(\"temp.csv\",\"w\") as file:\r\n",
    "    cur.copy_expert(\"COPY ign_reviews TO STDOUT WITH CSV HEADER;\",file)\r\n",
    "\r\n",
    "# Nhap database vao hoac xuat ra khoi file:\r\n",
    "\r\n",
    "with open(\"temp.csv\",\"r\") as file:\r\n",
    "    cur.copy_expert(\"COPY ign_reviews_copy FROM STDIN WITH CSV HEADER;\",file)"
   ],
   "outputs": [],
   "metadata": {}
  },
  {
   "cell_type": "code",
   "execution_count": null,
   "source": [
    "# Chuyen Data tu DB nay sang DB khac:\r\n",
    "cur.execute(\"CREATE TABLE ign_restricted (id bigint PRIMARY KEY, title varchar(200), release_date date);\")\r\n",
    "cur.execute(\"INSERT INTO ign_restricted (id, title, release_date) SELECT id, title, release_date FROM ign_reviews;\")"
   ],
   "outputs": [],
   "metadata": {}
  },
  {
   "cell_type": "code",
   "execution_count": null,
   "source": [],
   "outputs": [],
   "metadata": {}
  }
 ],
 "metadata": {
  "orig_nbformat": 4,
  "language_info": {
   "name": "python"
  }
 },
 "nbformat": 4,
 "nbformat_minor": 2
}