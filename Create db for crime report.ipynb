{
 "cells": [
  {
   "cell_type": "markdown",
   "source": [],
   "metadata": {}
  },
  {
   "cell_type": "code",
   "execution_count": 2,
   "source": [
    "import psycopg2\r\n",
    "import csv\r\n",
    "conn = psycopg2.connect(dbname=\"postgres\", user=\"postgres\", password = \"abc123\")\r\n",
    "cur = conn.cursor()\r\n",
    "conn.autocommit = True"
   ],
   "outputs": [],
   "metadata": {}
  },
  {
   "cell_type": "code",
   "execution_count": 3,
   "source": [
    "cur.execute(\"CREATE DATABASE crime_db;\")\r\n",
    "conn.close()"
   ],
   "outputs": [
    {
     "output_type": "error",
     "ename": "DuplicateDatabase",
     "evalue": "database \"crime_db\" already exists\n",
     "traceback": [
      "\u001b[1;31m---------------------------------------------------------------------------\u001b[0m",
      "\u001b[1;31mDuplicateDatabase\u001b[0m                         Traceback (most recent call last)",
      "\u001b[1;32m<ipython-input-3-ae0b50f7bbd2>\u001b[0m in \u001b[0;36m<module>\u001b[1;34m\u001b[0m\n\u001b[1;32m----> 1\u001b[1;33m \u001b[0mcur\u001b[0m\u001b[1;33m.\u001b[0m\u001b[0mexecute\u001b[0m\u001b[1;33m(\u001b[0m\u001b[1;34m\"CREATE DATABASE crime_db;\"\u001b[0m\u001b[1;33m)\u001b[0m\u001b[1;33m\u001b[0m\u001b[1;33m\u001b[0m\u001b[0m\n\u001b[0m\u001b[0;32m      2\u001b[0m \u001b[0mconn\u001b[0m\u001b[1;33m.\u001b[0m\u001b[0mclose\u001b[0m\u001b[1;33m(\u001b[0m\u001b[1;33m)\u001b[0m\u001b[1;33m\u001b[0m\u001b[1;33m\u001b[0m\u001b[0m\n",
      "\u001b[1;31mDuplicateDatabase\u001b[0m: database \"crime_db\" already exists\n"
     ]
    }
   ],
   "metadata": {}
  },
  {
   "cell_type": "code",
   "execution_count": 4,
   "source": [
    "conn = psycopg2.connect(dbname=\"crime_db\", user=\"postgres\", password = \"abc123\")\r\n",
    "conn.autocommit = True\r\n",
    "cur = conn.cursor()\r\n",
    "cur.execute(\"CREATE SCHEMA crimes;\")"
   ],
   "outputs": [
    {
     "output_type": "error",
     "ename": "DuplicateSchema",
     "evalue": "schema \"crimes\" already exists\n",
     "traceback": [
      "\u001b[1;31m---------------------------------------------------------------------------\u001b[0m",
      "\u001b[1;31mDuplicateSchema\u001b[0m                           Traceback (most recent call last)",
      "\u001b[1;32m<ipython-input-4-90ef98d2d153>\u001b[0m in \u001b[0;36m<module>\u001b[1;34m\u001b[0m\n\u001b[0;32m      2\u001b[0m \u001b[0mconn\u001b[0m\u001b[1;33m.\u001b[0m\u001b[0mautocommit\u001b[0m \u001b[1;33m=\u001b[0m \u001b[1;32mTrue\u001b[0m\u001b[1;33m\u001b[0m\u001b[1;33m\u001b[0m\u001b[0m\n\u001b[0;32m      3\u001b[0m \u001b[0mcur\u001b[0m \u001b[1;33m=\u001b[0m \u001b[0mconn\u001b[0m\u001b[1;33m.\u001b[0m\u001b[0mcursor\u001b[0m\u001b[1;33m(\u001b[0m\u001b[1;33m)\u001b[0m\u001b[1;33m\u001b[0m\u001b[1;33m\u001b[0m\u001b[0m\n\u001b[1;32m----> 4\u001b[1;33m \u001b[0mcur\u001b[0m\u001b[1;33m.\u001b[0m\u001b[0mexecute\u001b[0m\u001b[1;33m(\u001b[0m\u001b[1;34m\"CREATE SCHEMA crimes;\"\u001b[0m\u001b[1;33m)\u001b[0m\u001b[1;33m\u001b[0m\u001b[1;33m\u001b[0m\u001b[0m\n\u001b[0m",
      "\u001b[1;31mDuplicateSchema\u001b[0m: schema \"crimes\" already exists\n"
     ]
    }
   ],
   "metadata": {}
  },
  {
   "cell_type": "code",
   "execution_count": 5,
   "source": [
    "with open('boston.csv', 'r') as f:\r\n",
    "    reader = csv.reader(f)\r\n",
    "    col_headers = next(reader)"
   ],
   "outputs": [],
   "metadata": {}
  },
  {
   "cell_type": "code",
   "execution_count": 6,
   "source": [
    "def get_col_set(csv_file, col_index):\r\n",
    "    import csv\r\n",
    "    values = set()\r\n",
    "    with open(csv_file, 'r') as f:\r\n",
    "        next(f)\r\n",
    "        reader = csv.reader(f)\r\n",
    "        for row in reader:\r\n",
    "            values.add(row[col_index])\r\n",
    "    return values\r\n"
   ],
   "outputs": [],
   "metadata": {}
  },
  {
   "cell_type": "code",
   "execution_count": 7,
   "source": [
    "for i in range(len(col_headers)):\r\n",
    "    values = get_col_set(\"boston.csv\", i)\r\n",
    "    print(col_headers[i], len(values))"
   ],
   "outputs": [
    {
     "output_type": "stream",
     "name": "stdout",
     "text": [
      "incident_number 298329\n",
      "offense_code 219\n",
      "description 239\n",
      "date 1177\n",
      "day_of_the_week 7\n",
      "lat 18177\n",
      "long 18177\n"
     ]
    }
   ],
   "metadata": {}
  },
  {
   "cell_type": "code",
   "execution_count": 9,
   "source": [
    "descriptions = get_col_set('boston.csv',2)"
   ],
   "outputs": [],
   "metadata": {}
  },
  {
   "cell_type": "code",
   "execution_count": 10,
   "source": [
    "max_len = 0 \r\n",
    "for description in descriptions:\r\n",
    "    max_len = max(max_len,len(description))\r\n",
    "print(max_len)"
   ],
   "outputs": [
    {
     "output_type": "stream",
     "name": "stdout",
     "text": [
      "58\n"
     ]
    }
   ],
   "metadata": {}
  },
  {
   "cell_type": "code",
   "execution_count": 11,
   "source": [
    "# create the enumerated datatype for representing the weekday\r\n",
    "cur.execute(\"\"\"\r\n",
    "    CREATE TYPE weekday AS ENUM ('Monday', 'Tuesday', 'Wednesday', 'Thursday', 'Friday', 'Saturday', 'Sunday');\r\n",
    "\"\"\")\r\n",
    "# create the table\r\n",
    "cur.execute(\"\"\"\r\n",
    "    CREATE TABLE crimes.boston_crimes (\r\n",
    "        incident_number INTEGER PRIMARY KEY,\r\n",
    "        offense_code INTEGER,\r\n",
    "        description VARCHAR(100),\r\n",
    "        date DATE,\r\n",
    "        day_of_the_week weekday,\r\n",
    "        lat decimal,\r\n",
    "        long decimal\r\n",
    "    );\r\n",
    "\"\"\")"
   ],
   "outputs": [],
   "metadata": {}
  },
  {
   "cell_type": "code",
   "execution_count": 12,
   "source": [
    "with open(\"boston.csv\") as f:\r\n",
    "    cur.copy_expert(\"COPY crimes.boston_crimes FROM STDIN WITH CSV HEADER;\", f)"
   ],
   "outputs": [],
   "metadata": {}
  },
  {
   "cell_type": "code",
   "execution_count": 14,
   "source": [
    "cur.execute(\"SELECT * FROM crimes.boston_crimes\")"
   ],
   "outputs": [],
   "metadata": {}
  },
  {
   "cell_type": "code",
   "execution_count": null,
   "source": [
    "print(cur.fetchall())"
   ],
   "outputs": [],
   "metadata": {}
  }
 ],
 "metadata": {
  "orig_nbformat": 4,
  "language_info": {
   "name": "python",
   "version": "3.8.5",
   "mimetype": "text/x-python",
   "codemirror_mode": {
    "name": "ipython",
    "version": 3
   },
   "pygments_lexer": "ipython3",
   "nbconvert_exporter": "python",
   "file_extension": ".py"
  },
  "kernelspec": {
   "name": "python3",
   "display_name": "Python 3.8.5 64-bit ('base': conda)"
  },
  "interpreter": {
   "hash": "b3ba2566441a7c06988d0923437866b63cedc61552a5af99d1f4fb67d367b25f"
  }
 },
 "nbformat": 4,
 "nbformat_minor": 2
}